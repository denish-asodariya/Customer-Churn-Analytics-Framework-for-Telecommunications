{
 "cells": [
  {
   "cell_type": "markdown",
   "metadata": {
    "id": "68TEWpgAvgrL"
   },
   "source": [
    "\n",
    "# CS 484 - Introduction to Machine Learning\n",
    "### Project: **Customer Churn Analytics Framework for Telecommunications**\n",
    "\n"
   ]
  },
  {
   "cell_type": "markdown",
   "metadata": {
    "id": "hXVhUN7oURO4"
   },
   "source": [
    "#### Team Members:\n",
    "####  Denish Dalsukhbhai Asodariya (A20525465)\n",
    "####  Prince Jayantbhai Rajodiya (A20536409)\n"
   ]
  },
  {
   "cell_type": "markdown",
   "metadata": {
    "id": "1jAQnUwr9V32"
   },
   "source": [
    "## Enviroment Setup"
   ]
  },
  {
   "cell_type": "code",
   "execution_count": null,
   "metadata": {
    "colab": {
     "base_uri": "https://localhost:8080/"
    },
    "id": "9eQlimDpYIdI",
    "outputId": "1c28f8be-a3bf-41d3-98ef-9e5c306dd499"
   },
   "outputs": [],
   "source": [
    "!pip install tensorflow\n",
    "\n",
    "from tensorflow.python.client import device_lib\n",
    "\n",
    "def check_gpu():\n",
    "  \"\"\"Checks if a GPU is available.\"\"\"\n",
    "  devices = device_lib.list_local_devices()\n",
    "  for device in devices:\n",
    "    if 'GPU' in device.name:\n",
    "      return True\n",
    "  return False\n",
    "\n",
    "if check_gpu():\n",
    "  print('Found GPU!')\n",
    "else:\n",
    "  print('No GPU found.')"
   ]
  },
  {
   "cell_type": "code",
   "execution_count": 5,
   "metadata": {
    "id": "Z6mFZWZeYbMD"
   },
   "outputs": [],
   "source": [
    "runtime_type = 'GPU'"
   ]
  },
  {
   "cell_type": "markdown",
   "metadata": {
    "id": "EDlXGZwN8-gV"
   },
   "source": [
    "## Required Libraries"
   ]
  },
  {
   "cell_type": "code",
   "execution_count": null,
   "metadata": {
    "colab": {
     "base_uri": "https://localhost:8080/"
    },
    "id": "dsn53h2BXoDa",
    "outputId": "70eecf3f-5831-4f18-924b-aa5c5059334b"
   },
   "outputs": [],
   "source": [
    "!pip install ipywidgets\n",
    "!pip install keplergl\n",
    "!pip install h3\n",
    "!pip install h3pandas\n",
    "!pip install branca\n",
    "!pip install imbalanced-learn\n",
    "!pip install seaborn\n",
    "!pip install plotly\n",
    "!pip install scikit-learn\n",
    "!pip install xgboost\n",
    "!pip install folium\n",
    "!pip install gdown\n",
    "!jupyter nbextension install --py --sys-prefix keplergl\n",
    "!jupyter nbextension enable keplergl --py --sys-prefix"
   ]
  },
  {
   "cell_type": "code",
   "execution_count": 8,
   "metadata": {
    "id": "E7CrESqiXoDJ"
   },
   "outputs": [],
   "source": [
    "import numpy as np\n",
    "from IPython.display import Image\n",
    "import branca.colormap as cm\n",
    "import pandas as pd\n",
    "import seaborn as sns\n",
    "import plotly.express as px\n",
    "from plotly.offline import init_notebook_mode, iplot\n",
    "import seaborn as sns\n",
    "import matplotlib.pyplot as pl\n",
    "from sklearn.preprocessing import LabelEncoder\n",
    "import imblearn\n",
    "from collections import Counter\n",
    "from imblearn.over_sampling import SMOTE\n",
    "from imblearn.pipeline import Pipeline\n",
    "from sklearn.model_selection import train_test_split\n",
    "from sklearn.metrics import confusion_matrix, classification_report\n",
    "from sklearn.metrics import accuracy_score, f1_score,recall_score, precision_score\n",
    "from sklearn.metrics import average_precision_score, roc_auc_score, roc_curve, auc\n",
    "from xgboost import XGBClassifier\n",
    "import matplotlib\n",
    "import imblearn\n",
    "import folium\n",
    "from imblearn.over_sampling import SMOTE\n",
    "from imblearn.pipeline import Pipeline\n",
    "import os , h3\n"
   ]
  },
  {
   "cell_type": "code",
   "execution_count": 9,
   "metadata": {
    "colab": {
     "base_uri": "https://localhost:8080/"
    },
    "id": "Pwl5PWbsHwXP",
    "outputId": "4bf31aeb-560f-4d74-b3c5-409684d508fd"
   },
   "outputs": [],
   "source": [
    "data_path = \"C:/Users/asoda/Downloads/Group_22_Asodariya_Rajodiya/updated_Telco_customer_churn.csv\""
   ]
  },
  {
   "cell_type": "code",
   "execution_count": 10,
   "metadata": {
    "id": "hxWCUe4naBEH"
   },
   "outputs": [],
   "source": [
    "data = pd.read_csv(data_path)"
   ]
  },
  {
   "cell_type": "markdown",
   "metadata": {
    "id": "26UjtuGcXoDt"
   },
   "source": [
    "<a id=\"2\"></a>\n",
    "## Data Procesing"
   ]
  },
  {
   "cell_type": "code",
   "execution_count": null,
   "metadata": {
    "colab": {
     "base_uri": "https://localhost:8080/",
     "height": 753
    },
    "id": "oi3acYAcJllb",
    "outputId": "13b9d621-ef93-4478-e458-077fb7a6bc5e"
   },
   "outputs": [],
   "source": [
    "data"
   ]
  },
  {
   "cell_type": "markdown",
   "metadata": {
    "id": "xIQPysV8XoDx"
   },
   "source": [
    "The \"Total Charges\" column is currently of object data type, so it needs to be converted to a suitable numerical format."
   ]
  },
  {
   "cell_type": "code",
   "execution_count": 14,
   "metadata": {
    "id": "fTKDZZpqXoDx"
   },
   "outputs": [],
   "source": [
    "data['Total Charges'] = pd.to_numeric(data['Total Charges'], errors='coerce')"
   ]
  },
  {
   "cell_type": "markdown",
   "metadata": {
    "id": "EDDVdaYiXoDy"
   },
   "source": [
    "Examining the dataset for any missing values."
   ]
  },
  {
   "cell_type": "code",
   "execution_count": null,
   "metadata": {
    "colab": {
     "base_uri": "https://localhost:8080/",
     "height": 1000
    },
    "id": "NGx-E0LaXoD1",
    "outputId": "09551d24-0133-4eca-cbb6-888cb17ff69a"
   },
   "outputs": [],
   "source": [
    "data.isnull().sum()"
   ]
  },
  {
   "cell_type": "markdown",
   "metadata": {
    "id": "P3UqfiAJXoD2"
   },
   "source": [
    "The columns \"Total Charges\" and \"Churn Reason\" contain missing values.\n",
    "The \"Churn Reason\" column has a significant number of null entries, as not all customers in the dataset have churned."
   ]
  },
  {
   "cell_type": "code",
   "execution_count": null,
   "metadata": {
    "colab": {
     "base_uri": "https://localhost:8080/"
    },
    "id": "UQ-mUCzzfAKz",
    "outputId": "1de79083-5baa-4ac4-e669-7cbbec3a4f8a"
   },
   "outputs": [],
   "source": [
    "data['CustomerID'].nunique()"
   ]
  },
  {
   "cell_type": "code",
   "execution_count": null,
   "metadata": {
    "colab": {
     "base_uri": "https://localhost:8080/",
     "height": 178
    },
    "id": "VWwbrf_OXoD2",
    "outputId": "45e38e97-002c-4241-8ef6-24f475f4825a"
   },
   "outputs": [],
   "source": [
    "data.groupby('Churn Label')['CustomerID'].nunique()"
   ]
  },
  {
   "cell_type": "code",
   "execution_count": null,
   "metadata": {
    "colab": {
     "base_uri": "https://localhost:8080/",
     "height": 736
    },
    "id": "x3K2Hw46XoD3",
    "outputId": "bf0545a3-725c-49f3-b602-d954336bf3cb"
   },
   "outputs": [],
   "source": [
    "data[data['Total Charges'].isna()]"
   ]
  },
  {
   "cell_type": "markdown",
   "metadata": {
    "id": "3Hv9owJjXoD4"
   },
   "source": [
    "Based on the analysis, customers with missing values in the \"Total Charges\" column are under a contract, primarily in Two-Year contracts, with a few in One-Year contracts."
   ]
  },
  {
   "cell_type": "markdown",
   "metadata": {
    "id": "lz6Lx3m9XoD4"
   },
   "source": [
    "<a id=\"3\"></a>\n",
    "### Imputing Missing Values"
   ]
  },
  {
   "cell_type": "markdown",
   "metadata": {
    "id": "23BI0rT_XoD5"
   },
   "source": [
    "1) Computing charges"
   ]
  },
  {
   "cell_type": "code",
   "execution_count": 24,
   "metadata": {
    "id": "ki8hEGihXoD6"
   },
   "outputs": [],
   "source": [
    "data['calc_charges'] = data['Monthly Charges'] * data['Tenure Months']"
   ]
  },
  {
   "cell_type": "markdown",
   "metadata": {
    "id": "DjjQhoFNXoEF"
   },
   "source": [
    "2) Calculating charge discrepancy"
   ]
  },
  {
   "cell_type": "code",
   "execution_count": 26,
   "metadata": {
    "id": "SidGdNL_XoEG"
   },
   "outputs": [],
   "source": [
    "data['diff_in_charges'] = data['Total Charges'] - data['calc_charges']"
   ]
  },
  {
   "cell_type": "markdown",
   "metadata": {
    "id": "NjmRJBI8XoEG"
   },
   "source": [
    "Let’s test our approach!"
   ]
  },
  {
   "cell_type": "code",
   "execution_count": null,
   "metadata": {
    "colab": {
     "base_uri": "https://localhost:8080/",
     "height": 542
    },
    "id": "1ArgAgHvXoEJ",
    "outputId": "9d9e787f-f907-4921-dee3-2b0ce7b12f22"
   },
   "outputs": [],
   "source": [
    "fig = px.histogram(data, x=\"diff_in_charges\",color = 'Contract',marginal=\"box\")\n",
    "fig.show()"
   ]
  },
  {
   "cell_type": "markdown",
   "metadata": {
    "id": "PcL5jQvuXoEK"
   },
   "source": [
    "<div> The graph shows the distribution of the difference between the actual total charges of our customers and the calculated values, which are derived by multiplying the monthly charges by the number of months the customer has used the service.</div>"
   ]
  },
  {
   "cell_type": "markdown",
   "metadata": {
    "id": "i6JM6vrhXoEK"
   },
   "source": [
    "Quantiles have been plotted to highlight the presence of outliers."
   ]
  },
  {
   "cell_type": "code",
   "execution_count": null,
   "metadata": {
    "colab": {
     "base_uri": "https://localhost:8080/",
     "height": 457
    },
    "id": "dNm2bTSIXoEK",
    "outputId": "28158368-3289-410c-b9f6-690fdf7d6d8e"
   },
   "outputs": [],
   "source": [
    "data.groupby('Contract')[['Total Charges','diff_in_charges']].quantile([.50,.80,.90,.95])"
   ]
  },
  {
   "cell_type": "code",
   "execution_count": 32,
   "metadata": {
    "id": "DFr0aOhvXoEL"
   },
   "outputs": [],
   "source": [
    "data['Total Charges'] = np.where(data['Total Charges'].isna() == True,data['calc_charges'], data['Total Charges'])"
   ]
  },
  {
   "cell_type": "code",
   "execution_count": 33,
   "metadata": {
    "id": "7xuaREnNXoEM"
   },
   "outputs": [],
   "source": [
    "data = data.drop(['calc_charges','diff_in_charges'], axis=1)"
   ]
  },
  {
   "cell_type": "markdown",
   "metadata": {
    "id": "stKRe_yJXoEb"
   },
   "source": [
    "<a id=\"4\"></a>\n",
    "# Exploratory Data Analysis"
   ]
  },
  {
   "cell_type": "markdown",
   "metadata": {
    "id": "rAD83ctzXoEc"
   },
   "source": [
    "<a id=\"5\"></a>\n",
    "## 1. Overall Churn Rate"
   ]
  },
  {
   "cell_type": "markdown",
   "metadata": {
    "id": "kzXut0k2XoEc"
   },
   "source": [
    "<div> To build a customer churn model, it’s essential to first understand the factors that most significantly influence customer churn.\n",
    "Churned customers are those who have stopped using the service. </div>\n",
    "<div> Let's introduce a key metric — churn rate, which represents the percentage of customers who have churned — and analyze this metric based on the customer characteristics in our dataset.</div>"
   ]
  },
  {
   "cell_type": "code",
   "execution_count": null,
   "metadata": {
    "colab": {
     "base_uri": "https://localhost:8080/",
     "height": 542
    },
    "id": "zXoV6xVmXoEc",
    "outputId": "fa56fe8c-e115-439f-d9d7-06550a57a967"
   },
   "outputs": [],
   "source": [
    "fig = px.pie(data.groupby('Churn Label')['CustomerID'].nunique().reset_index(),\n",
    "             values='CustomerID',\n",
    "             names='Churn Label')\n",
    "fig.show()"
   ]
  },
  {
   "cell_type": "markdown",
   "metadata": {
    "id": "MCZsY0LsXoEd"
   },
   "source": [
    "In the dataset, **41%** of the customers have churned and stopped using the company's services."
   ]
  },
  {
   "cell_type": "markdown",
   "metadata": {
    "id": "jVZhIDVkXoEe"
   },
   "source": [
    "<a id=\"6\"></a>\n",
    "## 2. Customer Geography"
   ]
  },
  {
   "cell_type": "markdown",
   "metadata": {
    "id": "ej07d2tvXoEf"
   },
   "source": [
    "Let's begin by examining the geography of the customers. We have data on their city, postal code, and coordinates."
   ]
  },
  {
   "cell_type": "code",
   "execution_count": null,
   "metadata": {
    "colab": {
     "base_uri": "https://localhost:8080/",
     "height": 146
    },
    "id": "r0tbqgoWXoEf",
    "outputId": "447d83dd-bc3a-48ec-88f1-9a077fae61a5"
   },
   "outputs": [],
   "source": [
    "data.groupby(['Country','State'])['CustomerID'].count()"
   ]
  },
  {
   "cell_type": "markdown",
   "metadata": {
    "id": "qg-sshGbXoEf"
   },
   "source": [
    "All of our clients are located in the United States, specifically in California."
   ]
  },
  {
   "cell_type": "code",
   "execution_count": null,
   "metadata": {
    "colab": {
     "base_uri": "https://localhost:8080/",
     "height": 317
    },
    "id": "QfyKKSZeXoEh",
    "outputId": "18a651db-11e0-4ac2-e5ba-9c8cdce8b1f8"
   },
   "outputs": [],
   "source": [
    "fig = px.scatter_mapbox(data.groupby(['Latitude','Longitude'])['CustomerID'].count().reset_index(), lat=\"Latitude\", lon=\"Longitude\", hover_data= ['CustomerID'], zoom=4, height=300)\n",
    "fig.update_layout(mapbox_style=\"open-street-map\")\n",
    "fig.update_layout(margin={\"r\":0,\"t\":0,\"l\":0,\"b\":0})\n",
    "fig.show()"
   ]
  },
  {
   "cell_type": "markdown",
   "metadata": {
    "id": "XVFSQzDvXoEi"
   },
   "source": [
    "The highest concentration of customers is found in the Los Angeles, San Diego, and San Francisco areas."
   ]
  },
  {
   "cell_type": "code",
   "execution_count": null,
   "metadata": {
    "colab": {
     "base_uri": "https://localhost:8080/",
     "height": 542
    },
    "id": "wCc-wthoXoEk",
    "outputId": "b9769878-f030-47ba-c7a1-73d53c87971d"
   },
   "outputs": [],
   "source": [
    "fig = px.bar(data.groupby(['City'])['CustomerID'].count().reset_index().sort_values('CustomerID',\n",
    "                                                                                    ascending=False).head(50),\n",
    "             x='City',\n",
    "             y='CustomerID',\n",
    "             color = 'CustomerID',\n",
    "             text = 'CustomerID')\n",
    "fig.show()"
   ]
  },
  {
   "cell_type": "markdown",
   "metadata": {
    "id": "fES3qbT8XoEn"
   },
   "source": [
    "<a id=\"7\"></a>\n",
    "### Add Hexagonal Visualization"
   ]
  },
  {
   "cell_type": "code",
   "execution_count": null,
   "metadata": {
    "colab": {
     "base_uri": "https://localhost:8080/",
     "height": 968
    },
    "id": "9omGA1CfXoEu",
    "outputId": "327f51c5-5d20-4bff-d960-eb9a506e9163"
   },
   "outputs": [],
   "source": [
    "# Set the resolution level for the hexagons\n",
    "hex_level = 5\n",
    "\n",
    "# Assuming `data` is a DataFrame containing 'Latitude', 'Longitude', and 'CustomerID' columns\n",
    "# Example DataFrame for reference\n",
    "# data = pd.DataFrame({\n",
    "#     'Latitude': [37.7749, 34.0522, 40.7128],\n",
    "#     'Longitude': [-122.4194, -118.2437, -74.0060],\n",
    "#     'CustomerID': [1, 2, 3]\n",
    "# })\n",
    "\n",
    "# Convert geographical coordinates (latitude and longitude) into H3 hex IDs\n",
    "data['hex_id'] = data.apply(lambda x: h3.latlng_to_cell(x['Latitude'], x['Longitude'], hex_level), axis=1)\n",
    "\n",
    "# Group the data by hex ID and count the number of customers per hex\n",
    "hex_counts = data.groupby('hex_id')['CustomerID'].count().reset_index(name='total_clients')\n",
    "\n",
    "# Calculate the geographic center of each hexagon\n",
    "hex_counts['center'] = hex_counts['hex_id'].apply(lambda x: h3.cell_to_latlng(x))\n",
    "\n",
    "# Set the range of values for coloring and create a colormap\n",
    "color_range = [hex_counts['total_clients'].min(), hex_counts['total_clients'].max()]\n",
    "colormap = cm.LinearColormap(\n",
    "    colors=[\"purple\", \"red\", \"orange\", \"yellow\", \"green\"],\n",
    "    vmin=min(color_range),\n",
    "    vmax=max(color_range)\n",
    ")\n",
    "\n",
    "# Determine the center of the map based on the average location of hexagon centers\n",
    "mean_lat = hex_counts['center'].apply(lambda x: x[0]).mean()\n",
    "mean_lon = hex_counts['center'].apply(lambda x: x[1]).mean()\n",
    "map_center = [mean_lat, mean_lon]\n",
    "\n",
    "# Initialize a Folium map with the 'Stamen Terrain' tiles\n",
    "m = folium.Map(\n",
    "    location=map_center,\n",
    "    zoom_start=6,\n",
    "    tiles='Stamen Terrain',\n",
    "    attr=\"Map tiles by Stamen Design, under CC BY 3.0. Data by OpenStreetMap, under ODbL.\"\n",
    ")\n",
    "\n",
    "# Add hexagonal regions to the map with color-coding based on customer counts\n",
    "for _, row in hex_counts.iterrows():\n",
    "    folium.Polygon(\n",
    "        locations=h3.cell_to_boundary(row['hex_id']),  # Remove geo_json argument and directly use boundary\n",
    "        fill=True,\n",
    "        fill_color=colormap(row['total_clients']),\n",
    "        fill_opacity=0.7,\n",
    "        stroke=False,\n",
    "        tooltip=f\"Number of clients: {row['total_clients']}\"\n",
    "    ).add_to(m)\n",
    "\n",
    "# Add a color legend to the map\n",
    "colormap.caption = 'Number of clients'\n",
    "m.add_child(colormap)\n",
    "\n",
    "# Display the map\n",
    "m\n"
   ]
  },
  {
   "cell_type": "markdown",
   "metadata": {
    "id": "ts7kE8v-XoEw"
   },
   "source": [
    "Calculate churn rate per hexagon"
   ]
  },
  {
   "cell_type": "code",
   "execution_count": 49,
   "metadata": {
    "id": "oliCGLEZXoEx"
   },
   "outputs": [],
   "source": [
    "churn = data.assign(churn_clients = np.where(data['Churn Label']=='Yes',data['CustomerID'],None)).groupby(['hex_id']).agg({'churn_clients':'count'}).reset_index()"
   ]
  },
  {
   "cell_type": "code",
   "execution_count": 50,
   "metadata": {
    "id": "cJOTQ4mAXoE0"
   },
   "outputs": [],
   "source": [
    "clients = data.groupby(['hex_id'])['CustomerID'].count().reset_index()"
   ]
  },
  {
   "cell_type": "code",
   "execution_count": 51,
   "metadata": {
    "id": "o47G8qhiXoFM"
   },
   "outputs": [],
   "source": [
    "churn_data = clients.join(churn.set_index(['hex_id']), on=['hex_id'])"
   ]
  },
  {
   "cell_type": "code",
   "execution_count": 52,
   "metadata": {
    "id": "HZg95RP_XoFO"
   },
   "outputs": [],
   "source": [
    "churn_data['churn_rate'] = churn_data['churn_clients']/churn_data['CustomerID']"
   ]
  },
  {
   "cell_type": "code",
   "execution_count": null,
   "metadata": {
    "colab": {
     "base_uri": "https://localhost:8080/",
     "height": 423
    },
    "id": "t9DF18KBXoFP",
    "outputId": "76f6106a-f4bb-4751-e2f4-b838c462628a"
   },
   "outputs": [],
   "source": [
    "churn_data"
   ]
  },
  {
   "cell_type": "code",
   "execution_count": null,
   "metadata": {
    "colab": {
     "base_uri": "https://localhost:8080/",
     "height": 968
    },
    "id": "XzzTP1zrXoFR",
    "outputId": "411a8cf1-a530-4d8e-8e0e-ec214c30046e"
   },
   "outputs": [],
   "source": [
    "# Assuming churn_data is a DataFrame containing 'hex_id', 'churn_rate', and 'CustomerID' columns\n",
    "# Example:\n",
    "# churn_data = pd.DataFrame({\n",
    "#     'hex_id': ['8928308280fffff', '8928308283fffff'],\n",
    "#     'churn_rate': [0.1, 0.4],\n",
    "#     'CustomerID': [10, 20]\n",
    "# })\n",
    "\n",
    "# Compute the geographic center of each hexagon\n",
    "churn_data['center'] = churn_data['hex_id'].apply(lambda x: h3.cell_to_latlng(x))\n",
    "\n",
    "# Set the color range based on churn rate and create a colormap\n",
    "color_range = [churn_data['churn_rate'].min(), churn_data['churn_rate'].max()]\n",
    "colormap = cm.LinearColormap(\n",
    "    colors=[\"green\", \"orange\", \"red\"],\n",
    "    vmin=min(color_range),\n",
    "    vmax=max(color_range)\n",
    ")\n",
    "\n",
    "# Determine the central location of the map by averaging the hexagon centers\n",
    "mean_lat = churn_data['center'].apply(lambda x: x[0]).mean()\n",
    "mean_lon = churn_data['center'].apply(lambda x: x[1]).mean()\n",
    "map_center = [mean_lat, mean_lon]\n",
    "\n",
    "# Create a Folium map centered around the calculated geographic center\n",
    "m = folium.Map(\n",
    "    location=map_center,\n",
    "    zoom_start=6,\n",
    "    width='100%',\n",
    "    height='80%',\n",
    "    tiles='Stamen Terrain',\n",
    "    attr=\"Map tiles by Stamen Design, under CC BY 3.0. Data by OpenStreetMap, under ODbL.\"\n",
    ")\n",
    "\n",
    "# Add hexagonal regions to the map, color-coded by churn rate\n",
    "for _, row in churn_data.iterrows():\n",
    "    folium.Polygon(\n",
    "        locations=h3.cell_to_boundary(row['hex_id']),  # Use the correct method to get hex boundaries\n",
    "        fill=True,\n",
    "        fill_color=colormap(row['churn_rate']),\n",
    "        fill_opacity=0.7,\n",
    "        stroke=False,\n",
    "        tooltip=f\"Churn rate: {row['churn_rate']}<br>Number of customers: {row['CustomerID']}\"\n",
    "    ).add_to(m)\n",
    "\n",
    "# Attach a color legend to the map\n",
    "colormap.caption = 'Churn rate'\n",
    "m.add_child(colormap)\n",
    "\n",
    "# Display the map\n",
    "m"
   ]
  },
  {
   "cell_type": "markdown",
   "metadata": {
    "id": "cz-yrCd9XoFV"
   },
   "source": [
    "<a id=\"8\"></a>\n",
    "## 3) Customer lifetime in service"
   ]
  },
  {
   "cell_type": "markdown",
   "metadata": {
    "id": "nBLVj19VXoFg"
   },
   "source": [
    "Before analyzing the services customers have used and their other characteristics, it’s crucial to consider how long customers have been using the service and at what point, in terms of months, they typically start to churn."
   ]
  },
  {
   "cell_type": "markdown",
   "metadata": {
    "id": "mhuO7BvOXoFg"
   },
   "source": [
    "Let's analyze the number of months that customers who have churned used the service, and determine if there is a specific point at which the majority of customers stop using the service."
   ]
  },
  {
   "cell_type": "code",
   "execution_count": null,
   "metadata": {
    "colab": {
     "base_uri": "https://localhost:8080/",
     "height": 542
    },
    "id": "fOOjTS8pXoFh",
    "outputId": "fad389b1-9395-4287-828b-a1ec5f72c371"
   },
   "outputs": [],
   "source": [
    "fig = px.histogram(data, x=\"Tenure Months\", color=\"Churn Label\",marginal=\"box\" )\n",
    "fig.show()"
   ]
  },
  {
   "cell_type": "code",
   "execution_count": null,
   "metadata": {
    "colab": {
     "base_uri": "https://localhost:8080/",
     "height": 366
    },
    "id": "85McRjb5XoFh",
    "outputId": "0cca5383-a7ea-4ee4-b1aa-a182f33e9e20"
   },
   "outputs": [],
   "source": [
    "data.groupby('Churn Label')['Tenure Months'].quantile([.50,.75,.90,.95])"
   ]
  },
  {
   "cell_type": "code",
   "execution_count": null,
   "metadata": {
    "colab": {
     "base_uri": "https://localhost:8080/",
     "height": 178
    },
    "id": "6QQ3YZaMXoFi",
    "outputId": "45beb44e-2014-421c-dbba-027e6c446d12"
   },
   "outputs": [],
   "source": [
    "data.groupby('Churn Label')['Tenure Months'].mean()"
   ]
  },
  {
   "cell_type": "markdown",
   "metadata": {
    "id": "sB4tryPksnE3"
   },
   "source": [
    "Approximately 50% of the customers who churned did so within the first 10 months. The rate of churn declines sharply after 5 months of service."
   ]
  },
  {
   "cell_type": "markdown",
   "metadata": {
    "id": "q_i8H3PgXoFk"
   },
   "source": [
    "The client's lifetime before churn is crucial information. Typically, the first few months of service are the riskiest, as customers may have high expectations, which, if unmet, can lead to churn."
   ]
  },
  {
   "cell_type": "markdown",
   "metadata": {
    "id": "aDUSwBmCXoFk"
   },
   "source": [
    "<a id=\"9\"></a>\n",
    "## What are the factors that lead to customer churn?"
   ]
  },
  {
   "cell_type": "markdown",
   "metadata": {
    "id": "zZAhylKdXoFl"
   },
   "source": [
    "A total of 41% of customers have stopped using the service, with 50% of them having used the service for less than 10 months."
   ]
  },
  {
   "cell_type": "markdown",
   "metadata": {
    "id": "DC0MNEbzXoFl"
   },
   "source": [
    "Now, we can begin analyzing the customer account data to identify which types of customers are more likely to churn and determine the actions we can take to address this."
   ]
  },
  {
   "cell_type": "markdown",
   "metadata": {
    "id": "WLSgZBf_XoFl"
   },
   "source": [
    "Before diving into the analysis, we can also examine the responses in the \"Churn Reason\" column. While customer survey data can be biased due to its subjective nature, gathering customer feedback is essential for any business aiming to grow and improve. Additionally, we have plenty of other data to cross-check and validate these customer responses."
   ]
  },
  {
   "cell_type": "code",
   "execution_count": null,
   "metadata": {
    "colab": {
     "base_uri": "https://localhost:8080/",
     "height": 542
    },
    "id": "WcHsJPV9XoFm",
    "outputId": "d46ecbc4-d0ca-416a-d994-3f89b5eb0170"
   },
   "outputs": [],
   "source": [
    "fig = px.bar(data.groupby(['Churn Reason'])['CustomerID'].count().reset_index().sort_values('CustomerID',\n",
    "                                                                                    ascending=False),\n",
    "             x='Churn Reason',\n",
    "             y='CustomerID',\n",
    "             color = 'CustomerID',\n",
    "             text = 'CustomerID')\n",
    "fig.show()"
   ]
  },
  {
   "cell_type": "markdown",
   "metadata": {
    "id": "C9GFJslLXoFn"
   },
   "source": [
    "Among the 41% of customers who churned, the majority left due to issues related to data, speed, and devices, which were better offered by competitors. The remaining churned customers cited poor customer service or dissatisfaction with the attitude of support specialists or the provider as their reasons."
   ]
  },
  {
   "cell_type": "markdown",
   "metadata": {
    "id": "2s0cYMekXoFo"
   },
   "source": [
    "There are also several reasons for churn that are beyond our control, such as customer relocation. Since this data is sparse and irrelevant to understanding how we can retain customers, I will remove it from the dataset."
   ]
  },
  {
   "cell_type": "code",
   "execution_count": 70,
   "metadata": {
    "id": "8PYSltdHXoFp"
   },
   "outputs": [],
   "source": [
    "data = data[data['Churn Reason'] != 'Moved']\n",
    "data = data[data['Churn Reason'] != 'Deceased']"
   ]
  },
  {
   "cell_type": "markdown",
   "metadata": {
    "id": "_8tKp8i6XoFq"
   },
   "source": [
    "<a id=\"10\"></a>\n",
    "## Types of Contracts"
   ]
  },
  {
   "cell_type": "markdown",
   "metadata": {
    "id": "7tpj4s5KXoFr"
   },
   "source": [
    "Let’s examine the different types of contracts offered by the service and analyze how they impact the churn rate."
   ]
  },
  {
   "cell_type": "code",
   "execution_count": null,
   "metadata": {
    "colab": {
     "base_uri": "https://localhost:8080/",
     "height": 517
    },
    "id": "t57rTAg9XoFr",
    "outputId": "e00e5654-80a5-44b5-f129-ea1a8d88b3b8"
   },
   "outputs": [],
   "source": [
    "fig = px.histogram(data, x=\"Churn Label\", color=\"Contract\", barmode=\"group\",\n",
    "                   title=\"Number of customers by contract type\")\n",
    "fig.update_layout(width=700, height=500, bargap=0.1)\n",
    "fig.show()"
   ]
  },
  {
   "cell_type": "code",
   "execution_count": null,
   "metadata": {
    "colab": {
     "base_uri": "https://localhost:8080/",
     "height": 542
    },
    "id": "kM1Z8CC0XoFs",
    "outputId": "7188859f-11f1-4de1-b46d-4942dfe6460a"
   },
   "outputs": [],
   "source": [
    "fig = px.pie(data.groupby(['Contract','Churn Label'])['CustomerID'].count().reset_index(),\n",
    "             values='CustomerID',\n",
    "            names='Contract',\n",
    "            facet_col = 'Churn Label',\n",
    "            title = 'Churn rate by contract type')\n",
    "\n",
    "fig.show()"
   ]
  },
  {
   "cell_type": "markdown",
   "metadata": {
    "id": "nNZBw2LmXoFt"
   },
   "source": [
    "86% of the customers who churned had a month-to-month contract."
   ]
  },
  {
   "cell_type": "code",
   "execution_count": null,
   "metadata": {
    "colab": {
     "base_uri": "https://localhost:8080/",
     "height": 303
    },
    "id": "6lI-9yh5XoFu",
    "outputId": "f2a4441f-18ba-472c-8e3a-6e48357c7ccf"
   },
   "outputs": [],
   "source": [
    "data.groupby(['Contract','Churn Label'])['Tenure Months'].mean()"
   ]
  },
  {
   "cell_type": "markdown",
   "metadata": {
    "id": "5iCr1XFRXoFv"
   },
   "source": [
    "<a id=\"11\"></a>\n",
    "## Total and monthly charges for clients"
   ]
  },
  {
   "cell_type": "markdown",
   "metadata": {
    "id": "xwYaRoIWXoFv"
   },
   "source": [
    "When examining the total and monthly charges of customers, the monthly charges may be more relevant for identifying the causes of churn. However, total charges can also provide valuable insights in understanding customer behavior."
   ]
  },
  {
   "cell_type": "markdown",
   "metadata": {
    "id": "dcD6oCHnXoFw"
   },
   "source": [
    "**Total charges**"
   ]
  },
  {
   "cell_type": "code",
   "execution_count": null,
   "metadata": {
    "colab": {
     "base_uri": "https://localhost:8080/",
     "height": 542
    },
    "id": "CJFoJkPMXoIy",
    "outputId": "616f906c-c47e-4631-94a8-9036a159f3d4"
   },
   "outputs": [],
   "source": [
    "fig = px.histogram(data, x=\"Total Charges\", color=\"Churn Label\",\n",
    "                   marginal=\"box\"\n",
    "                  )\n",
    "fig.show()"
   ]
  },
  {
   "cell_type": "markdown",
   "metadata": {
    "id": "hwbbJj9RXoI0"
   },
   "source": [
    "<div> The median charges of customers who have churned are more than twice as low as those of customers who continue using the service. </div>\n",
    "<div> However, this doesn't necessarily imply that churned customers were less financially capable. As we’ve seen, many customers tend to leave the service within the first 5 months, which could explain the lower charges. </div>"
   ]
  },
  {
   "cell_type": "markdown",
   "metadata": {
    "id": "pg1ubd4dXoI0"
   },
   "source": [
    "Therefore, we should focus on the monthly charges of customers to gain better insights."
   ]
  },
  {
   "cell_type": "markdown",
   "metadata": {
    "id": "-3TUtT9SXoI1"
   },
   "source": [
    "**Monthly Charges**"
   ]
  },
  {
   "cell_type": "code",
   "execution_count": null,
   "metadata": {
    "colab": {
     "base_uri": "https://localhost:8080/",
     "height": 542
    },
    "id": "XgAWQbuRXoI1",
    "outputId": "4fe1ff69-5cbf-4831-a1bc-7f590dd8e067"
   },
   "outputs": [],
   "source": [
    "fig = px.histogram(data, x=\"Monthly Charges\", color=\"Churn Label\",\n",
    "                   marginal=\"box\"\n",
    "                  )\n",
    "fig.show()"
   ]
  },
  {
   "cell_type": "code",
   "execution_count": null,
   "metadata": {
    "colab": {
     "base_uri": "https://localhost:8080/",
     "height": 366
    },
    "id": "9NOiTVd5XoI2",
    "outputId": "b47c87aa-f24c-4a22-a098-459b6835f0db"
   },
   "outputs": [],
   "source": [
    "data.groupby('Churn Label')['Monthly Charges'].quantile([.50,.75,.95,.99])"
   ]
  },
  {
   "cell_type": "markdown",
   "metadata": {
    "id": "DifG0-llXoI2"
   },
   "source": [
    "The median monthly charges of customers who have churned are higher than those of active customers. Since we did not identify a strong correlation between churn and customer location in previous steps, this difference may be related to specific services or other factors. We will investigate further to uncover the reasons!"
   ]
  },
  {
   "cell_type": "markdown",
   "metadata": {
    "id": "f5mSlHmeXoI2"
   },
   "source": [
    "<a id=\"12\"></a>\n",
    "## Services utilized by the Customer"
   ]
  },
  {
   "cell_type": "markdown",
   "metadata": {
    "id": "fqVSKCrlXoI3"
   },
   "source": [
    "Here is a list of services utilized by each customer:\n",
    "\n",
    "- Phone Service  \n",
    "- Internet Service  \n",
    "- Online Security  \n",
    "- Online Backup  \n",
    "- Device Protection  \n",
    "- Multiple Lines  \n",
    "- Tech Support  \n",
    "- Streaming TV  \n",
    "- Streaming Movies\n"
   ]
  },
  {
   "cell_type": "markdown",
   "metadata": {
    "id": "4_z0fWokXoI3"
   },
   "source": [
    "Given the large list of services, let’s prioritize by analyzing which variables correlate most strongly with the churn variable. This will help us focus on the most impactful factors."
   ]
  },
  {
   "cell_type": "code",
   "execution_count": 90,
   "metadata": {
    "id": "hvBfyK3OXoI4"
   },
   "outputs": [],
   "source": [
    "corr_df = data.copy()"
   ]
  },
  {
   "cell_type": "code",
   "execution_count": 264,
   "metadata": {
    "colab": {
     "base_uri": "https://localhost:8080/"
    },
    "id": "hUEBrFpNXoI5",
    "outputId": "ea208087-3b3d-4e2d-d3eb-120e0937cc09"
   },
   "outputs": [],
   "source": [
    "corr_df['Churn Label'] = corr_df['Churn Label'].replace({'Yes': 1, 'No': 0}).astype(int)"
   ]
  },
  {
   "cell_type": "code",
   "execution_count": null,
   "metadata": {
    "colab": {
     "base_uri": "https://localhost:8080/",
     "height": 307
    },
    "id": "7V1--eCcXoI6",
    "outputId": "37afce7f-2395-4ac9-e26d-50e320ac9a5c"
   },
   "outputs": [],
   "source": [
    "df_dummies = pd.get_dummies(corr_df[['Churn Label','Phone Service','Multiple Lines','Internet Service','Online Security',\n",
    "                                 'Online Backup','Device Protection','Tech Support','Streaming TV',\n",
    "                                 'Streaming Movies']])\n",
    "df_dummies.head()"
   ]
  },
  {
   "cell_type": "code",
   "execution_count": null,
   "metadata": {
    "colab": {
     "base_uri": "https://localhost:8080/",
     "height": 854
    },
    "id": "VFyfthy8XoI7",
    "outputId": "af4f40a5-6355-45f4-b427-fbbc6bda816c"
   },
   "outputs": [],
   "source": [
    "pl.figure(figsize=(9, 7))\n",
    "sns.heatmap(df_dummies.corr(), annot=False, cmap='coolwarm')\n",
    "\n",
    "pl.show()"
   ]
  },
  {
   "cell_type": "markdown",
   "metadata": {
    "id": "4SbHvoqlXoI_"
   },
   "source": [
    "<a id=\"13\"></a>\n",
    "### Internet services"
   ]
  },
  {
   "cell_type": "markdown",
   "metadata": {
    "id": "EMDJTOvPXoI_"
   },
   "source": [
    "First, let's examine the types of internet services that customers have, and then analyze how these different types affect the churn rate."
   ]
  },
  {
   "cell_type": "code",
   "execution_count": null,
   "metadata": {
    "colab": {
     "base_uri": "https://localhost:8080/",
     "height": 542
    },
    "id": "Igu7PZqxXoJA",
    "outputId": "42234b46-a968-4dab-e1fa-57e426229956"
   },
   "outputs": [],
   "source": [
    "fig = px.bar(data.groupby('Internet Service')['CustomerID'].count().reset_index(),\n",
    "             x='Internet Service',\n",
    "             y='CustomerID',\n",
    "             color = 'Internet Service',\n",
    "             text = 'CustomerID')\n",
    "fig.show()"
   ]
  },
  {
   "cell_type": "markdown",
   "metadata": {
    "id": "3ICHb4QBXoJA"
   },
   "source": [
    "The majority of customers are connected to DSL Internet, with a group of customers who do not use internet services (likely using only phone services). Interestingly, the churn rate among these non-internet users appears to be lower, according to the correlation graph, but we will verify this further."
   ]
  },
  {
   "cell_type": "markdown",
   "metadata": {
    "id": "zUfQCGI4XoJB"
   },
   "source": [
    "Let's analyze which types of internet services were used by customers who churned. This will help identify if certain types of internet services are more associated with churn."
   ]
  },
  {
   "cell_type": "code",
   "execution_count": null,
   "metadata": {
    "colab": {
     "base_uri": "https://localhost:8080/",
     "height": 542
    },
    "id": "btI-41M6XoJB",
    "outputId": "ac021afb-167c-49b5-d0e7-78f1223d6429"
   },
   "outputs": [],
   "source": [
    "fig = px.pie(data.groupby(['Internet Service','Churn Label'])['CustomerID'].count().reset_index(),\n",
    "             values='CustomerID',\n",
    "             facet_col = 'Churn Label',\n",
    "             names='Internet Service',\n",
    "            title = 'What type of internet was associated with the customers who left the service?')\n",
    "fig.show()"
   ]
  },
  {
   "cell_type": "markdown",
   "metadata": {
    "id": "u1nESVrmXoJC"
   },
   "source": [
    "Approximately 45% of customers who churned were using Fiber Optic Internet services before leaving."
   ]
  },
  {
   "cell_type": "markdown",
   "metadata": {
    "id": "Nb_Vo89sXoJE"
   },
   "source": [
    "<a id=\"14\"></a>\n",
    "### Tech support and online security"
   ]
  },
  {
   "cell_type": "markdown",
   "metadata": {
    "id": "3B2Hc1cZXoJI"
   },
   "source": [
    "**Tech Support**"
   ]
  },
  {
   "cell_type": "code",
   "execution_count": null,
   "metadata": {
    "colab": {
     "base_uri": "https://localhost:8080/",
     "height": 542
    },
    "id": "rZn56GwzXoJI",
    "outputId": "8c36bcfa-d960-4cd5-f532-8c4bb844f2c0"
   },
   "outputs": [],
   "source": [
    "fig = px.bar(data.groupby(['Internet Service',\n",
    "                                                'Tech Support',\n",
    "                                                'Churn Label'])['CustomerID'].count().reset_index(),\n",
    "             x=\"Internet Service\",\n",
    "             y=\"CustomerID\",\n",
    "             color=\"Churn Label\",\n",
    "             text = 'CustomerID',\n",
    "             barmode=\"group\",\n",
    "             facet_col=\"Tech Support\"\n",
    "            )\n",
    "fig.show()"
   ]
  },
  {
   "cell_type": "markdown",
   "metadata": {
    "id": "Z6fLqkzrXoJJ"
   },
   "source": [
    "After consulting with Tech Support, the churn rate is lower. We observe that even among customers with Fiber Optic Internet, the churn percentage is lower for those who have the Tech Support service enabled."
   ]
  },
  {
   "cell_type": "code",
   "execution_count": null,
   "metadata": {
    "colab": {
     "base_uri": "https://localhost:8080/",
     "height": 542
    },
    "id": "nDEsT9MrXoJK",
    "outputId": "ef7796f8-c0b9-43df-a3f1-a658d7282cf9"
   },
   "outputs": [],
   "source": [
    "fig = px.pie(data.groupby(['Tech Support','Churn Label'])['CustomerID'].count().reset_index(),\n",
    "             values='CustomerID',\n",
    "             facet_col = 'Churn Label',\n",
    "             hole = .5,\n",
    "             names='Tech Support',\n",
    "            title = 'Tech support option and churn')\n",
    "fig.show()"
   ]
  },
  {
   "cell_type": "markdown",
   "metadata": {
    "id": "9LSNgjGBXoJK"
   },
   "source": [
    "70.1% of the customers who churned did not have the Tech Support option enabled."
   ]
  },
  {
   "cell_type": "markdown",
   "metadata": {
    "id": "O_OCtUZ3XoJT"
   },
   "source": [
    "<a id=\"15\"></a>\n",
    "## Customer's Payment Method"
   ]
  },
  {
   "cell_type": "markdown",
   "metadata": {
    "id": "oBCh7_g5XoL2"
   },
   "source": [
    "Let’s analyze the payment methods used by customers and examine how these methods influence the churn rate."
   ]
  },
  {
   "cell_type": "code",
   "execution_count": null,
   "metadata": {
    "colab": {
     "base_uri": "https://localhost:8080/",
     "height": 542
    },
    "id": "1UYxd3RQXoL3",
    "outputId": "f6ccc680-882a-4517-c276-5e9a9dd46daf"
   },
   "outputs": [],
   "source": [
    "fig = px.bar(data.groupby(['Payment Method',\n",
    "                                                'Churn Label'])['CustomerID'].count().reset_index(),\n",
    "             x=\"CustomerID\",\n",
    "             y=\"Payment Method\",\n",
    "             color=\"Churn Label\",\n",
    "             text = 'CustomerID'\n",
    "            )\n",
    "fig.show()"
   ]
  },
  {
   "cell_type": "markdown",
   "metadata": {
    "id": "L8_LBQClXoL6"
   },
   "source": [
    "Wow, it appears that for customers who use an electronic check as their payment method, the churn rate is around 50%."
   ]
  },
  {
   "cell_type": "code",
   "execution_count": null,
   "metadata": {
    "colab": {
     "base_uri": "https://localhost:8080/",
     "height": 542
    },
    "id": "CH_VmgWYXoL9",
    "outputId": "4416a17c-82fc-424c-e56c-293c1d435696"
   },
   "outputs": [],
   "source": [
    "fig = px.pie(data.groupby(['Payment Method','Churn Label'])['CustomerID'].count().reset_index(),\n",
    "            values='CustomerID',\n",
    "            names='Churn Label',\n",
    "            facet_col = 'Payment Method',\n",
    "            color = 'Churn Label',\n",
    "            title = 'Churn rate by customer payment method')\n",
    "\n",
    "fig.show()"
   ]
  },
  {
   "cell_type": "markdown",
   "metadata": {
    "id": "xEol3b4xXoMe"
   },
   "source": [
    "We can observe that customers who use automatic payment methods, such as credit cards and bank transfers, generally have a lower churn rate compared to those using electronic or mailed checks."
   ]
  },
  {
   "cell_type": "markdown",
   "metadata": {
    "id": "RYGWEw2oXoMh"
   },
   "source": [
    "Among the customers with Fiber Optic Internet, the majority used an electronic check as their payment method."
   ]
  },
  {
   "cell_type": "code",
   "execution_count": 114,
   "metadata": {
    "id": "jsYQHXbgXoMi"
   },
   "outputs": [],
   "source": [
    "churn_pm = data.assign(churn_clients = np.where(data['Churn Label']== 'Yes',data['CustomerID'],None))\\\n",
    "   .groupby(['Payment Method','Internet Service']).agg({'churn_clients':'count'}).reset_index()"
   ]
  },
  {
   "cell_type": "code",
   "execution_count": 115,
   "metadata": {
    "id": "DQiKV2ANXoMj"
   },
   "outputs": [],
   "source": [
    "pm_clients = data.groupby(['Payment Method','Internet Service'])['CustomerID'].count().reset_index()"
   ]
  },
  {
   "cell_type": "code",
   "execution_count": 116,
   "metadata": {
    "id": "ZDDedXP_XoMj"
   },
   "outputs": [],
   "source": [
    "pm_data = pm_clients.join(churn_pm.set_index(['Payment Method','Internet Service']), on=['Payment Method','Internet Service'])"
   ]
  },
  {
   "cell_type": "code",
   "execution_count": null,
   "metadata": {
    "colab": {
     "base_uri": "https://localhost:8080/",
     "height": 425
    },
    "id": "7RfathKRXoMk",
    "outputId": "813ef853-b0be-4383-a68c-9e0093ec02b0"
   },
   "outputs": [],
   "source": [
    "pm_data"
   ]
  },
  {
   "cell_type": "code",
   "execution_count": 118,
   "metadata": {
    "id": "iWxLoje1XoMl"
   },
   "outputs": [],
   "source": [
    "pm_data['churn_rate,%'] = round(((pm_data['churn_clients']/pm_data['CustomerID']) * 100),2)"
   ]
  },
  {
   "cell_type": "code",
   "execution_count": null,
   "metadata": {
    "colab": {
     "base_uri": "https://localhost:8080/",
     "height": 542
    },
    "id": "9z0yS8zgXoMm",
    "outputId": "694424b4-6f1a-42f7-b683-b121be64708a"
   },
   "outputs": [],
   "source": [
    "fig = px.bar(pm_data.sort_values('churn_rate,%'),\n",
    "             x='churn_rate,%',\n",
    "             y='Payment Method',\n",
    "             facet_col = 'Internet Service',\n",
    "             color = 'churn_rate,%',\n",
    "             text = 'churn_rate,%')\n",
    "fig.show()"
   ]
  },
  {
   "cell_type": "markdown",
   "metadata": {
    "id": "m6cdUQhhXoMs"
   },
   "source": [
    "<a id=\"16\"></a>\n",
    "## Gender and Age of Clients"
   ]
  },
  {
   "cell_type": "markdown",
   "metadata": {
    "id": "E3c8YzLCXoMt"
   },
   "source": [
    "**Customer's Gender**"
   ]
  },
  {
   "cell_type": "code",
   "execution_count": null,
   "metadata": {
    "colab": {
     "base_uri": "https://localhost:8080/",
     "height": 542
    },
    "id": "j8Pm3AqGXoMt",
    "outputId": "11ca52e2-e089-4cdd-c974-489b35449905"
   },
   "outputs": [],
   "source": [
    "fig = px.pie(data.groupby('Gender')['CustomerID'].count().reset_index(),\n",
    "            values='CustomerID',\n",
    "            names='Gender',\n",
    "            color_discrete_sequence=px.colors.sequential.RdBu,\n",
    "            title = 'Distribution of the clients by gender')\n",
    "\n",
    "fig.show()"
   ]
  },
  {
   "cell_type": "markdown",
   "metadata": {
    "id": "XtILhlHYXoMt"
   },
   "source": [
    "Let's analyze the churn rate by gender to identify any differences between men and women."
   ]
  },
  {
   "cell_type": "code",
   "execution_count": null,
   "metadata": {
    "colab": {
     "base_uri": "https://localhost:8080/",
     "height": 542
    },
    "id": "a1wGyD8CXoMu",
    "outputId": "d8455c79-9090-4476-be1c-c768f671406b"
   },
   "outputs": [],
   "source": [
    "fig = px.bar(data.groupby(['Gender',\n",
    "                                                'Churn Label'])['CustomerID'].count().reset_index(),\n",
    "             x=\"CustomerID\",\n",
    "             y=\"Gender\",\n",
    "             color=\"Churn Label\",\n",
    "             text = 'CustomerID'\n",
    "            )\n",
    "fig.show()"
   ]
  },
  {
   "cell_type": "markdown",
   "metadata": {
    "id": "fWScDTPfXoMv"
   },
   "source": [
    "**Senior Citizen or not**"
   ]
  },
  {
   "cell_type": "code",
   "execution_count": null,
   "metadata": {
    "colab": {
     "base_uri": "https://localhost:8080/",
     "height": 542
    },
    "id": "0rD7D-CbXoMw",
    "outputId": "9991ea6f-0deb-46bf-b93b-9b5e587b137c"
   },
   "outputs": [],
   "source": [
    "fig = px.pie(data.groupby(['Senior Citizen','Churn Label'])['CustomerID'].count().reset_index(),\n",
    "            values='CustomerID',\n",
    "            names='Churn Label',\n",
    "            facet_col = 'Senior Citizen',\n",
    "            color = 'Churn Label',\n",
    "            title = 'Churn rate by customer age')\n",
    "\n",
    "fig.show()\n"
   ]
  },
  {
   "cell_type": "markdown",
   "metadata": {
    "id": "2GpJ8K62XoMx"
   },
   "source": [
    "The churn rate among senior citizens is nearly twice as high as that of non-senior citizens. However, the number of senior citizens in the dataset is much smaller."
   ]
  },
  {
   "cell_type": "code",
   "execution_count": null,
   "metadata": {
    "colab": {
     "base_uri": "https://localhost:8080/",
     "height": 178
    },
    "id": "N9ANs54HXoMy",
    "outputId": "d97c6753-4c93-4994-e66c-88e642091cc4"
   },
   "outputs": [],
   "source": [
    "data.groupby('Senior Citizen')['CustomerID'].count()"
   ]
  },
  {
   "cell_type": "markdown",
   "metadata": {
    "id": "D6a9p2b4XoMz"
   },
   "source": [
    "<a id=\"17\"></a>\n",
    "## Effect of having a partner or dependents on churn rate."
   ]
  },
  {
   "cell_type": "code",
   "execution_count": null,
   "metadata": {
    "colab": {
     "base_uri": "https://localhost:8080/",
     "height": 542
    },
    "id": "oK72t7FwXoMz",
    "outputId": "4403f49b-7505-42a0-84c8-23115cebe9eb"
   },
   "outputs": [],
   "source": [
    "fig = px.bar(data.groupby(['Senior Citizen','Partner',\n",
    "                                        'Dependents','Churn Label'])['CustomerID'].count().reset_index(),\n",
    "             x=\"Senior Citizen\",\n",
    "             y=\"CustomerID\",\n",
    "             color=\"Churn Label\",\n",
    "             #barmode=\"group\",\n",
    "             facet_row=\"Partner\",\n",
    "             facet_col = 'Dependents'\n",
    "            )\n",
    "fig.show()"
   ]
  },
  {
   "cell_type": "markdown",
   "metadata": {
    "id": "-gMa4KYrXoM0"
   },
   "source": [
    "We observe that among senior citizens without a partner or dependents, the churn rate is nearly 50%."
   ]
  },
  {
   "cell_type": "markdown",
   "metadata": {
    "id": "-JjG5lBdXoM0"
   },
   "source": [
    "Let's examine which services were used by senior citizens, and then proceed to summarize the findings and begin building a churn prediction model."
   ]
  },
  {
   "cell_type": "code",
   "execution_count": null,
   "metadata": {
    "colab": {
     "base_uri": "https://localhost:8080/",
     "height": 542
    },
    "id": "2v8-8ZY2XoM1",
    "outputId": "ac9a0ed6-98f3-42e5-9638-0f20e465d8b9"
   },
   "outputs": [],
   "source": [
    "fig = px.bar(data.groupby(['Senior Citizen','Internet Service','Churn Label'])['CustomerID'].count().reset_index(),\n",
    "             x=\"Internet Service\",\n",
    "             y=\"CustomerID\",\n",
    "             color=\"Churn Label\",\n",
    "             barmode=\"group\",\n",
    "             facet_col = 'Senior Citizen'\n",
    "            )\n",
    "fig.show()"
   ]
  },
  {
   "cell_type": "markdown",
   "metadata": {
    "id": "_aDIBx7RXoM2"
   },
   "source": [
    "Among senior citizens, a larger percentage were connected to Fiber Optic Internet, and these customers exhibit the highest churn rate."
   ]
  },
  {
   "cell_type": "markdown",
   "metadata": {
    "id": "tLEzkUCAXoM6"
   },
   "source": [
    "Here’s a summary of what we learned from analyzing the data:\n",
    "\n",
    "- The lowest churn rate is observed among customers without Internet services (though this group is smaller).\n",
    "- 69.2% of churned customers were using Fiber Optic Internet.\n",
    "- The lack of technical support and online security options is correlated with higher churn.\n",
    "- When considering payment methods, customers using electronic checks have the highest churn rate, regardless of the type of Internet service.\n",
    "- The churn rate for senior citizens is nearly twice as high as that for non-senior citizens."
   ]
  },
  {
   "cell_type": "markdown",
   "metadata": {
    "id": "tOyMuRf8XoM9"
   },
   "source": [
    "<a id=\"18\"></a>\n",
    "# Feature Engineering"
   ]
  },
  {
   "cell_type": "markdown",
   "metadata": {
    "id": "nye9pGKlXoM-"
   },
   "source": [
    "<a id=\"19\"></a>\n",
    "### 1) Removing the columns that are not needed."
   ]
  },
  {
   "cell_type": "code",
   "execution_count": 138,
   "metadata": {
    "id": "4M8D4qTvXoM_"
   },
   "outputs": [],
   "source": [
    "data = data.drop(['Country','State','Count','Zip Code','Churn Reason','City','Churn Score','Churn Value','CLTV','CustomerID','Lat Long',\n",
    "                  'Latitude','Longitude'], axis = 1)"
   ]
  },
  {
   "cell_type": "code",
   "execution_count": null,
   "metadata": {
    "colab": {
     "base_uri": "https://localhost:8080/"
    },
    "id": "Ci18ydMMXoNB",
    "outputId": "228e9b8d-1fa1-46a9-bb17-4a331c76d1e7"
   },
   "outputs": [],
   "source": [
    "data.info()"
   ]
  },
  {
   "cell_type": "markdown",
   "metadata": {
    "id": "PmxduQJ_XoNB"
   },
   "source": [
    "<a id=\"20\"></a>\n",
    "### 2) Converting categorical variables to numeric values."
   ]
  },
  {
   "cell_type": "code",
   "execution_count": 141,
   "metadata": {
    "id": "GHrpM5C2XoNC"
   },
   "outputs": [],
   "source": [
    "corr_df['Churn Label'] = corr_df['Churn Label'].replace(to_replace='Yes', value=1)\n",
    "corr_df['Churn Label'] = corr_df['Churn Label'].replace(to_replace='No', value=0)"
   ]
  },
  {
   "cell_type": "code",
   "execution_count": 142,
   "metadata": {
    "id": "SYXnTbYaXoND"
   },
   "outputs": [],
   "source": [
    "def encode_data(dataframe_series):\n",
    "    if dataframe_series.dtype=='object':\n",
    "        dataframe_series = LabelEncoder().fit_transform(dataframe_series)\n",
    "    return dataframe_series"
   ]
  },
  {
   "cell_type": "code",
   "execution_count": null,
   "metadata": {
    "colab": {
     "base_uri": "https://localhost:8080/",
     "height": 253
    },
    "id": "UrsiKa1xXoNG",
    "outputId": "4aa99dd3-90d1-4f3b-c933-eeda2e2fc1c9"
   },
   "outputs": [],
   "source": [
    "data = data.apply(lambda x: encode_data(x))\n",
    "data.head()"
   ]
  },
  {
   "cell_type": "markdown",
   "metadata": {
    "id": "gQMdeAY6XoNH"
   },
   "source": [
    "Now, let's examine the correlation between all the selected features and the churn label."
   ]
  },
  {
   "cell_type": "code",
   "execution_count": null,
   "metadata": {
    "colab": {
     "base_uri": "https://localhost:8080/",
     "height": 542
    },
    "id": "pHZCTZTsXoNH",
    "outputId": "9d62f272-0916-4434-fa78-2177356cae99"
   },
   "outputs": [],
   "source": [
    "fig = px.bar(data.corr()['Churn Label'].sort_values(ascending = False),\n",
    "             color = 'value')\n",
    "fig.show()"
   ]
  },
  {
   "cell_type": "markdown",
   "metadata": {
    "id": "ffcxdIoLXoNI"
   },
   "source": [
    "<a id=\"21\"></a>\n",
    "### 3) Balancing the Dataset"
   ]
  },
  {
   "cell_type": "markdown",
   "metadata": {
    "id": "kE7XQX6qXoNK"
   },
   "source": [
    "We observe that the data is unbalanced, with a higher number of customers who have not churned compared to those who have."
   ]
  },
  {
   "cell_type": "code",
   "execution_count": null,
   "metadata": {
    "colab": {
     "base_uri": "https://localhost:8080/",
     "height": 178
    },
    "id": "f_Ri_8jSXoNK",
    "outputId": "a1f01edb-fe29-41ac-9992-1203c39a4101"
   },
   "outputs": [],
   "source": [
    "data.groupby('Churn Label')['Churn Label'].count()"
   ]
  },
  {
   "cell_type": "code",
   "execution_count": 149,
   "metadata": {
    "id": "ydmBlaJ-XoNO"
   },
   "outputs": [],
   "source": [
    "over = SMOTE(sampling_strategy = 1)\n",
    "x = data.drop(\"Churn Label\", axis = 1).values\n",
    "y = data['Churn Label'].values"
   ]
  },
  {
   "cell_type": "code",
   "execution_count": 150,
   "metadata": {
    "id": "x-2pTH3I1Owz"
   },
   "outputs": [],
   "source": [
    "x,y = over.fit_resample(x,y)"
   ]
  },
  {
   "cell_type": "markdown",
   "metadata": {
    "id": "lZoleVJ9XoNQ"
   },
   "source": [
    "<a id=\"22\"></a>\n",
    "# Modeling using machine learning approaches."
   ]
  },
  {
   "cell_type": "markdown",
   "metadata": {
    "id": "HN1sBeZu-jkh"
   },
   "source": [
    "We are comparing three algorithms here:\n",
    "\n",
    "1. **Logistic Regression**  \n",
    "2. **Random Forest**  \n",
    "3. **Extreme Gradient Boosting Classifier**"
   ]
  },
  {
   "cell_type": "markdown",
   "metadata": {
    "id": "RFNaF1XV-6Xh"
   },
   "source": [
    "### Why these three algorithms for Telecommunications?\n",
    "\n",
    "- **Logistic Regression:**\n",
    "    - Simple and interpretable model, easy to understand and implement.\n",
    "    - Effective for binary classification tasks like churn prediction.\n",
    "    - Outputs probabilities of churn, which is useful for assessing risk.\n",
    "\n",
    "- **Random Forest:**\n",
    "    - An ensemble method that merges multiple decision trees for improved performance.\n",
    "    - Less prone to overfitting, capable of handling complex, non-linear relationships.\n",
    "    - Provides feature importance scores to identify key factors influencing churn.\n",
    "\n",
    "- **Extreme Gradient Boosting Classifier (XGBoost):**\n",
    "    - A gradient boosting method that combines multiple weak learners into a strong one.\n",
    "    - Known for its high accuracy and efficiency, often outperforming other models in churn prediction.\n",
    "    - Handles both linear and non-linear relationships, making it ideal for more complex churn datasets."
   ]
  },
  {
   "cell_type": "markdown",
   "metadata": {
    "id": "BhnlMT7v-Yex"
   },
   "source": [
    "### Divide the data into training and test sets for the algorithms."
   ]
  },
  {
   "cell_type": "code",
   "execution_count": 155,
   "metadata": {
    "id": "WUNkwi2EXoNR"
   },
   "outputs": [],
   "source": [
    "x_train, x_test, y_train, y_test = train_test_split(x, y, random_state =2, test_size = 0.2)"
   ]
  },
  {
   "cell_type": "code",
   "execution_count": 156,
   "metadata": {
    "id": "N2Zah98CmE4w"
   },
   "outputs": [],
   "source": [
    "import pandas as pd\n",
    "import numpy as np\n",
    "import seaborn as sns\n",
    "import matplotlib.pyplot as plt\n",
    "from sklearn.preprocessing import LabelEncoder\n",
    "from imblearn.over_sampling import SMOTE\n",
    "from sklearn.model_selection import train_test_split\n",
    "from sklearn.metrics import accuracy_score, f1_score,recall_score, precision_score\n",
    "from sklearn.metrics import average_precision_score, roc_auc_score, roc_curve, auc\n",
    "from xgboost import XGBClassifier\n",
    "import matplotlib\n",
    "import folium\n",
    "import os , h3\n",
    "from sklearn.linear_model import LogisticRegression\n",
    "from sklearn.ensemble import RandomForestClassifier\n",
    "from sklearn.model_selection import GridSearchCV"
   ]
  },
  {
   "cell_type": "code",
   "execution_count": 157,
   "metadata": {
    "id": "Zb96YjgzKsQr"
   },
   "outputs": [],
   "source": [
    "def logistic_regression(x, y):\n",
    "    if len(x) < 10 or len(y) < 10:\n",
    "        print(\"Insufficient data.\")\n",
    "        return\n",
    "\n",
    "    try:\n",
    "        x_train, x_test, y_train, y_test = train_test_split(x, y, test_size=0.2, random_state=42)\n",
    "        #'liblinear' for binary classification\n",
    "        model = LogisticRegression(solver='liblinear')\n",
    "        model.fit(x_train, y_train)\n",
    "        y_pred = model.predict(x_test)\n",
    "        metrics = {\n",
    "            \"Accuracy\": accuracy_score(y_test, y_pred),\n",
    "            \"F1 Score\": f1_score(y_test, y_pred),\n",
    "            \"Recall\": recall_score(y_test, y_pred),\n",
    "            \"Precision\": precision_score(y_test, y_pred),\n",
    "            \"AUC\": roc_auc_score(y_test, model.predict_proba(x_test)[:, 1])\n",
    "        }\n",
    "\n",
    "        for metric, value in metrics.items():\n",
    "            print(f\"{metric}: {value}\")\n",
    "    except Exception as e:\n",
    "        print(f\"An error occurred: {e}\")\n"
   ]
  },
  {
   "cell_type": "code",
   "execution_count": 158,
   "metadata": {
    "id": "c0JklOgJKvq7"
   },
   "outputs": [],
   "source": [
    "from sklearn.model_selection import RandomizedSearchCV\n",
    "from sklearn.linear_model import LogisticRegression\n",
    "\n",
    "def tune_logistic_regression(x, y):\n",
    "    if len(x) < 10 or len(y) < 10:\n",
    "        print(\"Insufficient data.\")\n",
    "        return\n",
    "\n",
    "    param_distributions = {\n",
    "        'C': [0.1, 1, 10],\n",
    "        'penalty': ['l1', 'l2'],\n",
    "        'solver': ['liblinear', 'saga'],\n",
    "        'max_iter': [1000]\n",
    "    }\n",
    "\n",
    "    try:\n",
    "        random_search = RandomizedSearchCV(LogisticRegression(), param_distributions, n_iter=10, cv=5, scoring='roc_auc', n_jobs=-1)\n",
    "        random_search.fit(x, y)\n",
    "        best_params = random_search.best_params_\n",
    "        print(f\"Best parameters: {best_params}\")\n",
    "        logistic_regression(x, y)\n",
    "    except Exception as e:\n",
    "        print(f\"An error occurred during tuning: {e}\")\n"
   ]
  },
  {
   "cell_type": "code",
   "execution_count": 159,
   "metadata": {
    "id": "0xEzv9SJKzHd"
   },
   "outputs": [],
   "source": [
    "def random_forest(x, y):\n",
    "    if len(x) < 10 or len(y) < 10:\n",
    "        print(\"Insufficient data.\")\n",
    "        return\n",
    "\n",
    "    try:\n",
    "        x_train, x_test, y_train, y_test = train_test_split(x, y, test_size=0.2, random_state=42)\n",
    "        model = RandomForestClassifier()\n",
    "        model.fit(x_train, y_train)\n",
    "        y_pred = model.predict(x_test)\n",
    "        metrics = {\n",
    "            \"Accuracy\": accuracy_score(y_test, y_pred),\n",
    "            \"F1 Score\": f1_score(y_test, y_pred),\n",
    "            \"Recall\": recall_score(y_test, y_pred),\n",
    "            \"Precision\": precision_score(y_test, y_pred),\n",
    "            \"AUC\": roc_auc_score(y_test, model.predict_proba(x_test)[:, 1])\n",
    "        }\n",
    "\n",
    "        for metric, value in metrics.items():\n",
    "            print(f\"{metric}: {value}\")\n",
    "    except Exception as e:\n",
    "        print(f\"An error occurred: {e}\")\n"
   ]
  },
  {
   "cell_type": "code",
   "execution_count": 160,
   "metadata": {
    "id": "qGe3FWw9K1mL"
   },
   "outputs": [],
   "source": [
    "from sklearn.model_selection import RandomizedSearchCV\n",
    "from sklearn.ensemble import RandomForestClassifier\n",
    "\n",
    "def tune_random_forest(x, y):\n",
    "    if len(x) < 10 or len(y) < 10:\n",
    "        print(\"Insufficient data.\")\n",
    "        return\n",
    "\n",
    "    param_distributions = {\n",
    "        'n_estimators': [50, 100, 200],\n",
    "        'max_depth': [None, 10, 20],\n",
    "        'min_samples_split': [2, 5, 10],\n",
    "        'min_samples_leaf': [1, 2, 4]\n",
    "    }\n",
    "\n",
    "    try:\n",
    "        random_search = RandomizedSearchCV(RandomForestClassifier(), param_distributions, n_iter=10, cv=5, scoring='roc_auc', n_jobs=-1)\n",
    "        random_search.fit(x, y)\n",
    "        best_params = random_search.best_params_\n",
    "        print(f\"Best parameters: {best_params}\")\n",
    "        random_forest(x, y)  # Evaluate model with best parameters\n",
    "    except Exception as e:\n",
    "        print(f\"An error occurred during tuning: {e}\")\n"
   ]
  },
  {
   "cell_type": "code",
   "execution_count": 161,
   "metadata": {
    "id": "ejzuFTM_LA45"
   },
   "outputs": [],
   "source": [
    "def xgboost(x, y, params=None):\n",
    "    # Check for insufficient data\n",
    "    if len(x) < 10 or len(y) < 10:\n",
    "        print(\"Insufficient data.\")\n",
    "        return\n",
    "\n",
    "    try:\n",
    "        # Split the data into training and testing sets\n",
    "        x_train, x_test, y_train, y_test = train_test_split(x, y, test_size=0.2, random_state=42)\n",
    "\n",
    "        # Use the provided parameters or default ones\n",
    "        if params is None:\n",
    "            params = {\n",
    "                'eval_metric': 'logloss',\n",
    "                'objective': 'binary:logistic',\n",
    "                'random_state': 42\n",
    "            }\n",
    "\n",
    "        # Create the XGBoost classifier with the given parameters\n",
    "        model = XGBClassifier(**params)\n",
    "\n",
    "        # Fit the model on the training data\n",
    "        model.fit(x_train, y_train)\n",
    "\n",
    "        # Make predictions on the test data\n",
    "        y_pred = model.predict(x_test)\n",
    "        y_pred_proba = model.predict_proba(x_test)[:, 1]\n",
    "\n",
    "        # Compute evaluation metrics\n",
    "        metrics = {\n",
    "            \"Accuracy\": accuracy_score(y_test, y_pred),\n",
    "            \"F1 Score\": f1_score(y_test, y_pred),\n",
    "            \"Recall\": recall_score(y_test, y_pred),\n",
    "            \"Precision\": precision_score(y_test, y_pred),\n",
    "            \"AUC\": roc_auc_score(y_test, y_pred_proba)\n",
    "        }\n",
    "\n",
    "        # Print the evaluation metrics\n",
    "        for metric, value in metrics.items():\n",
    "            print(f\"{metric}: {value}\")\n",
    "\n",
    "    except Exception as e:\n",
    "        print(f\"An error occurred: {e}\")\n"
   ]
  },
  {
   "cell_type": "code",
   "execution_count": 162,
   "metadata": {
    "id": "AmfD9n32LDSd"
   },
   "outputs": [],
   "source": [
    "\n",
    "def tune_xgboost(x, y):\n",
    "    if len(x) < 10 or len(y) < 10:\n",
    "        print(\"Insufficient data.\")\n",
    "        return\n",
    "\n",
    "    # Parameter grid for RandomizedSearchCV\n",
    "    param_distributions = {\n",
    "        'n_estimators': [50, 100, 200],\n",
    "        'max_depth': [5, 10, 15],\n",
    "        'learning_rate': [0.01, 0.1, 0.3],\n",
    "        'subsample': [0.5, 0.7, 0.9],\n",
    "        'colsample_bytree': [0.5, 0.7, 0.9]\n",
    "    }\n",
    "\n",
    "    try:\n",
    "        # Randomized search for hyperparameter tuning\n",
    "        random_search = RandomizedSearchCV(\n",
    "            XGBClassifier(eval_metric='logloss', objective='binary:logistic', random_state=42),\n",
    "            param_distributions,\n",
    "            n_iter=10,\n",
    "            cv=5,\n",
    "            scoring='roc_auc',\n",
    "            n_jobs=-1,\n",
    "            random_state=42\n",
    "        )\n",
    "        random_search.fit(x, y)\n",
    "\n",
    "        # Best parameters\n",
    "        best_params = random_search.best_params_\n",
    "        print(f\"Best parameters: {best_params}\")\n",
    "\n",
    "        # Evaluate the model with the best parameters\n",
    "        xgboost(x, y, params={**best_params, 'eval_metric': 'logloss', 'objective': 'binary:logistic', 'random_state': 42})\n",
    "\n",
    "    except Exception as e:\n",
    "        print(f\"An error occurred during tuning: {e}\")\n"
   ]
  },
  {
   "cell_type": "code",
   "execution_count": null,
   "metadata": {
    "colab": {
     "base_uri": "https://localhost:8080/"
    },
    "id": "-g3GJivtMWcl",
    "outputId": "b750243c-8e01-450d-9460-7ac90c7076bc"
   },
   "outputs": [],
   "source": [
    "logistic_regression(x, y)"
   ]
  },
  {
   "cell_type": "code",
   "execution_count": null,
   "metadata": {
    "colab": {
     "base_uri": "https://localhost:8080/"
    },
    "id": "-GdjHFU7O5oG",
    "outputId": "ceb9480b-c73c-4b52-ed2a-f76de9d047e0"
   },
   "outputs": [],
   "source": [
    "random_forest(x, y)"
   ]
  },
  {
   "cell_type": "code",
   "execution_count": null,
   "metadata": {
    "colab": {
     "base_uri": "https://localhost:8080/"
    },
    "id": "YNJ0NwioMWZG",
    "outputId": "55a0341c-cfae-49bc-dc0d-9c4690f35f10"
   },
   "outputs": [],
   "source": [
    "xgboost(x, y)\n"
   ]
  },
  {
   "cell_type": "code",
   "execution_count": null,
   "metadata": {
    "id": "rZe8I9zoPLpE"
   },
   "outputs": [],
   "source": [
    "tune_logistic_regression(x, y)"
   ]
  },
  {
   "cell_type": "code",
   "execution_count": null,
   "metadata": {
    "id": "4p-2CULpFH3H"
   },
   "outputs": [],
   "source": [
    "# Random forest Hyper Parameter Tuning\n",
    "tune_random_forest(x, y)"
   ]
  },
  {
   "cell_type": "code",
   "execution_count": null,
   "metadata": {
    "id": "_9sdV3uQFNiv"
   },
   "outputs": [],
   "source": [
    "# XGboost hyperparameter tuning\n",
    "tune_xgboost(x, y)"
   ]
  },
  {
   "cell_type": "code",
   "execution_count": null,
   "metadata": {
    "id": "Oanid-uYX3as"
   },
   "outputs": [],
   "source": [
    "import matplotlib.pyplot as plt\n",
    "from sklearn.metrics import roc_curve, auc\n",
    "from sklearn.linear_model import LogisticRegression\n",
    "from sklearn.ensemble import RandomForestClassifier\n",
    "from xgboost import XGBClassifier\n",
    "\n",
    "# Function to plot ROC curves for different models\n",
    "def plot_roc_curves(models, x_test, y_test):\n",
    "    plt.figure(figsize=(12, 8))  # Set figure size for the plot\n",
    "    for model_name, model in models.items():\n",
    "        # Get predicted probabilities for the positive class\n",
    "        y_pred_proba = model.predict_proba(x_test)[:, 1]\n",
    "        # Compute the false positive rate (FPR) and true positive rate (TPR)\n",
    "        fpr, tpr, _ = roc_curve(y_test, y_pred_proba)\n",
    "        # Calculate the AUC (Area Under the Curve)\n",
    "        roc_auc = auc(fpr, tpr)\n",
    "        # Plot ROC curve for the current model\n",
    "        plt.plot(fpr, tpr, label=f\"{model_name} (AUC = {roc_auc:.2f})\")\n",
    "    plt.plot([0, 1], [0, 1], 'r--')  # Plot diagonal line representing random chance\n",
    "    plt.xlabel('False Positive Rate')  # Label for X-axis\n",
    "    plt.ylabel('True Positive Rate')  # Label for Y-axis\n",
    "    plt.title('ROC Curves for Churn Prediction Models')  # Title for the plot\n",
    "    plt.legend()  # Show legend with model names and AUC values\n",
    "    plt.show()  # Display the plot\n",
    "\n",
    "# Initialize models for Logistic Regression, Random Forest, and XGBoost\n",
    "models = {\n",
    "    \"Logistic Regression\": LogisticRegression(solver='liblinear'),\n",
    "    \"Random Forest\": RandomForestClassifier(),\n",
    "    \"XGBoost\": XGBClassifier(eval_metric='logloss')  # Removed use_label_encoder\n",
    "}\n",
    "\n",
    "# Train each model using the training data\n",
    "for model_name, model in models.items():\n",
    "    model.fit(x_train, y_train)\n",
    "\n",
    "# Generate and display ROC curves for all models\n",
    "plot_roc_curves(models, x_test, y_test)\n"
   ]
  },
  {
   "cell_type": "code",
   "execution_count": null,
   "metadata": {
    "id": "TJtpEf1Wlhs9"
   },
   "outputs": [],
   "source": [
    "\n",
    "import matplotlib.pyplot as plt\n",
    "from sklearn.model_selection import train_test_split\n",
    "from sklearn.linear_model import LogisticRegression\n",
    "from sklearn.ensemble import RandomForestClassifier\n",
    "from xgboost import XGBClassifier\n",
    "from sklearn.metrics import accuracy_score, f1_score, recall_score, precision_score, roc_auc_score\n",
    "\n",
    "def model_prediction_visualization(x, y):\n",
    "    # Split the dataset into training and testing sets\n",
    "    x_train, x_test, y_train, y_test = train_test_split(x, y, test_size=0.2, random_state=42)\n",
    "\n",
    "    # Initialize models for comparison\n",
    "    models = {\n",
    "        'Logistic Regression': LogisticRegression(solver='liblinear'),\n",
    "        'Random Forest': RandomForestClassifier(),\n",
    "        'XGBoost': XGBClassifier(eval_metric='logloss')  # Removed use_label_encoder\n",
    "    }\n",
    "\n",
    "    # Train the models on the training data\n",
    "    for model_name, model in models.items():\n",
    "        model.fit(x_train, y_train)\n",
    "\n",
    "    # Make predictions and compute probabilities with each model on the test data\n",
    "    predictions = {}\n",
    "    probabilities = {}\n",
    "    for model_name, model in models.items():\n",
    "        predictions[model_name] = model.predict(x_test)  # Predicted labels\n",
    "        if hasattr(model, \"predict_proba\"):  # Check if the model supports predict_proba\n",
    "            probabilities[model_name] = model.predict_proba(x_test)[:, 1]  # Probabilities for positive class\n",
    "\n",
    "    # Define evaluation metrics to assess model performance\n",
    "    metrics = {\n",
    "        'Accuracy': lambda y_true, y_pred: accuracy_score(y_true, y_pred),\n",
    "        'F1 Score': lambda y_true, y_pred: f1_score(y_true, y_pred),\n",
    "        'Recall': lambda y_true, y_pred: recall_score(y_true, y_pred),\n",
    "        'Precision': lambda y_true, y_pred: precision_score(y_true, y_pred),\n",
    "        'AUC': lambda y_true, y_proba: roc_auc_score(y_true, y_proba)\n",
    "    }\n",
    "\n",
    "    # Evaluate each model using the defined metrics\n",
    "    results = {}\n",
    "    for model_name in models.keys():\n",
    "        results[model_name] = {}\n",
    "        for metric_name, metric_function in metrics.items():\n",
    "            if metric_name == 'AUC' and model_name in probabilities:\n",
    "                results[model_name][metric_name] = metric_function(y_test, probabilities[model_name])\n",
    "            elif metric_name != 'AUC':\n",
    "                results[model_name][metric_name] = metric_function(y_test, predictions[model_name])\n",
    "\n",
    "    # Visualize the results by plotting the metric scores for each model\n",
    "    fig, ax = plt.subplots(figsize=(12, 8))\n",
    "    plt.title('Comparison of Model Performance')\n",
    "    plt.xlabel('Metric')\n",
    "    plt.ylabel('Score')\n",
    "\n",
    "    # Plot the scores for each model\n",
    "    for model_name, metric_scores in results.items():\n",
    "        plt.plot(list(metric_scores.keys()), list(metric_scores.values()), label=model_name, marker='o')\n",
    "\n",
    "    plt.legend()\n",
    "    plt.grid()\n",
    "    plt.show()\n",
    "\n",
    "# Call the function to visualize model predictions\n",
    "model_prediction_visualization(x, y)"
   ]
  },
  {
   "cell_type": "code",
   "execution_count": null,
   "metadata": {
    "id": "KMNz_l74Xfeu"
   },
   "outputs": [],
   "source": [
    "import matplotlib.pyplot as plt\n",
    "import seaborn as sns\n",
    "from sklearn.linear_model import LogisticRegression\n",
    "from sklearn.ensemble import RandomForestClassifier\n",
    "from sklearn.metrics import confusion_matrix\n",
    "from xgboost import XGBClassifier\n",
    "\n",
    "# Function to display confusion matrices for multiple models\n",
    "def plot_confusion_matrix(models, x_train, y_train, x_test, y_test):\n",
    "    # Create a subplot for each model to visualize the confusion matrix\n",
    "    fig, axs = plt.subplots(1, len(models), figsize=(20, 5))\n",
    "\n",
    "    # For each model, generate and plot its confusion matrix\n",
    "    for i, (model_name, model) in enumerate(models.items()):\n",
    "        # Train the model\n",
    "        model.fit(x_train, y_train)\n",
    "        # Predict the labels on the test set\n",
    "        y_pred = model.predict(x_test)\n",
    "        # Compute the confusion matrix\n",
    "        cm = confusion_matrix(y_test, y_pred)\n",
    "        # Visualize the confusion matrix using a heatmap\n",
    "        sns.heatmap(cm, annot=True, fmt='d', ax=axs[i], cmap='Blues')\n",
    "        axs[i].set_title(f'{model_name} Confusion Matrix')  # Set the title for the subplot\n",
    "        axs[i].set_xlabel('Predicted Label')  # Label for X-axis\n",
    "        axs[i].set_ylabel('True Label')  # Label for Y-axis\n",
    "\n",
    "    # Adjust layout for better presentation\n",
    "    plt.tight_layout()\n",
    "    plt.show()  # Display the confusion matrix plots\n",
    "\n",
    "# Define the models to evaluate\n",
    "models = {\n",
    "    'Logistic Regression': LogisticRegression(solver='liblinear'),\n",
    "    'Random Forest': RandomForestClassifier(),\n",
    "    'XGBoost': XGBClassifier(eval_metric='logloss')  # Removed use_label_encoder\n",
    "}\n",
    "\n",
    "# Call the function to plot confusion matrices for the models\n",
    "plot_confusion_matrix(models, x_train, y_train, x_test, y_test)\n"
   ]
  },
  {
   "cell_type": "markdown",
   "metadata": {
    "id": "8LpaiyyugO1M"
   },
   "source": [
    "\n",
    "## Error Analysis  \n",
    "Error analysis is the process of identifying and understanding the sources of errors in a model or system. It involves examining the model’s predictions and comparing them to the actual outcomes to identify discrepancies.\n",
    "\n",
    "Here’s a step-by-step approach to error analysis:\n",
    "\n",
    "1. **Collect Data:** Gather data on the model’s predictions and actual outcomes, including input features, predicted values, and true values.\n",
    "\n",
    "2. **Analyze Errors:** Calculate error metrics such as mean absolute error, root mean squared error, or classification accuracy to assess the model’s performance.\n",
    "\n",
    "3. **Identify Patterns:** Look for patterns in the errors. For example, are there specific features or conditions causing higher error rates?\n",
    "\n",
    "4. **Investigate Causes:** Examine the underlying causes of the errors, such as model assumptions, data quality issues, or limitations in the model’s design or training process.\n",
    "\n",
    "5. **Develop Mitigation Strategies:** Propose solutions to address the identified errors, such as improving data quality, adjusting model parameters, or testing alternative modeling techniques.\n",
    "\n"
   ]
  },
  {
   "cell_type": "code",
   "execution_count": null,
   "metadata": {
    "id": "f5Dhe6LxfKBx"
   },
   "outputs": [],
   "source": [
    "from sklearn.metrics import (\n",
    "    accuracy_score,\n",
    "    f1_score,\n",
    "    recall_score,\n",
    "    precision_score,\n",
    ")\n",
    "import matplotlib.pyplot as plt\n",
    "\n",
    "# Function to perform error analysis on multiple classification models\n",
    "def error_analysis(models, x_train, y_train, x_test, y_test):\n",
    "    # Generate predictions for each model\n",
    "    predictions = {}\n",
    "    for model_name, model in models.items():\n",
    "        model.fit(x_train, y_train)  # Train each model using the training data\n",
    "        predictions[model_name] = model.predict(x_test)  # Get predictions for the test set\n",
    "\n",
    "    # Define the evaluation metrics to be calculated\n",
    "    metrics = {\n",
    "        \"Accuracy\": accuracy_score,  # Accuracy of the model\n",
    "        \"F1 Score\": f1_score,  # F1 Score\n",
    "        \"Recall\": recall_score,  # Recall value\n",
    "        \"Precision\": precision_score,  # Precision score\n",
    "    }\n",
    "\n",
    "    # Store the results of the error metrics\n",
    "    results = {}\n",
    "    for model_name, prediction in predictions.items():\n",
    "        results[model_name] = {}\n",
    "        for metric_name, metric_function in metrics.items():\n",
    "            results[model_name][metric_name] = metric_function(y_test, prediction)\n",
    "\n",
    "    # Print out the error analysis results\n",
    "    print(\"Error Analysis Results:\")\n",
    "    for model_name, metric_scores in results.items():\n",
    "        print(f\"{model_name}:\")\n",
    "        for metric_name, metric_score in metric_scores.items():\n",
    "            print(f\"\\t{metric_name}: {metric_score:.4f}\")\n",
    "\n",
    "    # Bar plot for comparison of models' metrics\n",
    "    metric_names = list(metrics.keys())\n",
    "    fig, axs = plt.subplots(1, len(metric_names), figsize=(20, 5), sharey=True)\n",
    "    for i, metric_name in enumerate(metric_names):\n",
    "        metric_values = [results[model_name][metric_name] for model_name in models.keys()]\n",
    "        axs[i].bar(models.keys(), metric_values, color=\"skyblue\")\n",
    "        axs[i].set_title(f\"{metric_name} Comparison\")\n",
    "        axs[i].set_xticks(range(len(models)))  # Explicitly set tick positions\n",
    "        axs[i].set_xticklabels(models.keys(), rotation=45)  # Set tick labels\n",
    "        axs[i].set_ylim([0, 1])  # Metrics are between 0 and 1\n",
    "        axs[i].set_ylabel(metric_name)\n",
    "\n",
    "    plt.tight_layout()\n",
    "    plt.show()\n",
    "\n",
    "# Define models for evaluation\n",
    "models = {\n",
    "    \"Logistic Regression\": LogisticRegression(solver=\"liblinear\"),\n",
    "    \"Random Forest\": RandomForestClassifier(),\n",
    "    \"XGBoost\": XGBClassifier(eval_metric=\"logloss\"),  # Removed use_label_encoder\n",
    "}\n",
    "\n",
    "# Perform error analysis on the models\n",
    "error_analysis(models, x_train, y_train, x_test, y_test)\n"
   ]
  },
  {
   "cell_type": "markdown",
   "metadata": {
    "id": "t4iys4M7mxiB"
   },
   "source": [
    "\n",
    "## Conclusion  \n",
    "In this project, we explored Telecommunication Churn Prediction, starting with dataset analysis, followed by feature engineering, and concluding with comparing three machine learning models to identify the best fit for the dataset in terms of accuracy.\n",
    "\n",
    "The models used were Logistic Regression, Random Forest, and XG-Boost. Among the three, XG-Boost outperformed the others, achieving an accuracy of 85.03%, an F1 score of 84.51%, a precision of 87.54%, and a recall of 81.68%. The ROC curve demonstrated that XG-Boost had the highest AUC value of 0.93, indicating a strong ability to differentiate between churn and non-churn customers.\n",
    "\n",
    "Error analysis revealed that all models exhibited similar error patterns, suggesting that further tuning or additional features could improve the accuracy, especially for certain customer segments.\n",
    "\n",
    "In conclusion, the XG-Boost model demonstrated superior performance for churn prediction in the telecommunications industry. With further optimization, it can provide valuable insights for customer retention strategies."
   ]
  }
 ],
 "metadata": {
  "accelerator": "GPU",
  "colab": {
   "gpuType": "T4",
   "provenance": []
  },
  "kaggle": {
   "accelerator": "none",
   "dataSources": [
    {
     "datasetId": 13996,
     "sourceId": 18858,
     "sourceType": "datasetVersion"
    },
    {
     "datasetId": 1020460,
     "sourceId": 1720381,
     "sourceType": "datasetVersion"
    }
   ],
   "dockerImageVersionId": 30445,
   "isGpuEnabled": false,
   "isInternetEnabled": true,
   "language": "python",
   "sourceType": "notebook"
  },
  "kernelspec": {
   "display_name": "Python 3 (ipykernel)",
   "language": "python",
   "name": "python3"
  },
  "language_info": {
   "codemirror_mode": {
    "name": "ipython",
    "version": 3
   },
   "file_extension": ".py",
   "mimetype": "text/x-python",
   "name": "python",
   "nbconvert_exporter": "python",
   "pygments_lexer": "ipython3",
   "version": "3.11.10"
  }
 },
 "nbformat": 4,
 "nbformat_minor": 4
}
